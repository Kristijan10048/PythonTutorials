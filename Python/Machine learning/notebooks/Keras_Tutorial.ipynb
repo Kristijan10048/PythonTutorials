{
 "cells": [
  {
   "cell_type": "code",
   "execution_count": 1,
   "metadata": {},
   "outputs": [
    {
     "name": "stderr",
     "output_type": "stream",
     "text": [
      "E:\\Anaconda\\envs\\myenv\\lib\\site-packages\\tensorflow\\python\\framework\\dtypes.py:516: FutureWarning: Passing (type, 1) or '1type' as a synonym of type is deprecated; in a future version of numpy, it will be understood as (type, (1,)) / '(1,)type'.\n",
      "  _np_qint8 = np.dtype([(\"qint8\", np.int8, 1)])\n",
      "E:\\Anaconda\\envs\\myenv\\lib\\site-packages\\tensorflow\\python\\framework\\dtypes.py:517: FutureWarning: Passing (type, 1) or '1type' as a synonym of type is deprecated; in a future version of numpy, it will be understood as (type, (1,)) / '(1,)type'.\n",
      "  _np_quint8 = np.dtype([(\"quint8\", np.uint8, 1)])\n",
      "E:\\Anaconda\\envs\\myenv\\lib\\site-packages\\tensorflow\\python\\framework\\dtypes.py:518: FutureWarning: Passing (type, 1) or '1type' as a synonym of type is deprecated; in a future version of numpy, it will be understood as (type, (1,)) / '(1,)type'.\n",
      "  _np_qint16 = np.dtype([(\"qint16\", np.int16, 1)])\n",
      "E:\\Anaconda\\envs\\myenv\\lib\\site-packages\\tensorflow\\python\\framework\\dtypes.py:519: FutureWarning: Passing (type, 1) or '1type' as a synonym of type is deprecated; in a future version of numpy, it will be understood as (type, (1,)) / '(1,)type'.\n",
      "  _np_quint16 = np.dtype([(\"quint16\", np.uint16, 1)])\n",
      "E:\\Anaconda\\envs\\myenv\\lib\\site-packages\\tensorflow\\python\\framework\\dtypes.py:520: FutureWarning: Passing (type, 1) or '1type' as a synonym of type is deprecated; in a future version of numpy, it will be understood as (type, (1,)) / '(1,)type'.\n",
      "  _np_qint32 = np.dtype([(\"qint32\", np.int32, 1)])\n",
      "E:\\Anaconda\\envs\\myenv\\lib\\site-packages\\tensorflow\\python\\framework\\dtypes.py:525: FutureWarning: Passing (type, 1) or '1type' as a synonym of type is deprecated; in a future version of numpy, it will be understood as (type, (1,)) / '(1,)type'.\n",
      "  np_resource = np.dtype([(\"resource\", np.ubyte, 1)])\n",
      "E:\\Anaconda\\envs\\myenv\\lib\\site-packages\\tensorboard\\compat\\tensorflow_stub\\dtypes.py:541: FutureWarning: Passing (type, 1) or '1type' as a synonym of type is deprecated; in a future version of numpy, it will be understood as (type, (1,)) / '(1,)type'.\n",
      "  _np_qint8 = np.dtype([(\"qint8\", np.int8, 1)])\n",
      "E:\\Anaconda\\envs\\myenv\\lib\\site-packages\\tensorboard\\compat\\tensorflow_stub\\dtypes.py:542: FutureWarning: Passing (type, 1) or '1type' as a synonym of type is deprecated; in a future version of numpy, it will be understood as (type, (1,)) / '(1,)type'.\n",
      "  _np_quint8 = np.dtype([(\"quint8\", np.uint8, 1)])\n",
      "E:\\Anaconda\\envs\\myenv\\lib\\site-packages\\tensorboard\\compat\\tensorflow_stub\\dtypes.py:543: FutureWarning: Passing (type, 1) or '1type' as a synonym of type is deprecated; in a future version of numpy, it will be understood as (type, (1,)) / '(1,)type'.\n",
      "  _np_qint16 = np.dtype([(\"qint16\", np.int16, 1)])\n",
      "E:\\Anaconda\\envs\\myenv\\lib\\site-packages\\tensorboard\\compat\\tensorflow_stub\\dtypes.py:544: FutureWarning: Passing (type, 1) or '1type' as a synonym of type is deprecated; in a future version of numpy, it will be understood as (type, (1,)) / '(1,)type'.\n",
      "  _np_quint16 = np.dtype([(\"quint16\", np.uint16, 1)])\n",
      "E:\\Anaconda\\envs\\myenv\\lib\\site-packages\\tensorboard\\compat\\tensorflow_stub\\dtypes.py:545: FutureWarning: Passing (type, 1) or '1type' as a synonym of type is deprecated; in a future version of numpy, it will be understood as (type, (1,)) / '(1,)type'.\n",
      "  _np_qint32 = np.dtype([(\"qint32\", np.int32, 1)])\n",
      "E:\\Anaconda\\envs\\myenv\\lib\\site-packages\\tensorboard\\compat\\tensorflow_stub\\dtypes.py:550: FutureWarning: Passing (type, 1) or '1type' as a synonym of type is deprecated; in a future version of numpy, it will be understood as (type, (1,)) / '(1,)type'.\n",
      "  np_resource = np.dtype([(\"resource\", np.ubyte, 1)])\n",
      "Using TensorFlow backend.\n"
     ]
    }
   ],
   "source": [
    "import numpy as np\n",
    "np.random.seed(123)  # for reproducibility\n",
    "\n",
    "from tensorflow import keras\n",
    "\n",
    "#keras model module\n",
    "from keras.models import Sequential\n",
    "\n",
    "#ceras core layers\n",
    "from keras.layers import Dense, Dropout, Activation, Flatten\n",
    "\n",
    "#cnn layars\n",
    "from keras.layers import Convolution2D, MaxPooling2D\n",
    "\n",
    "from keras.utils import np_utils\n",
    "\n",
    "#Load image data from MNIST.\n",
    "from keras.datasets import mnist\n",
    "\n",
    "from keras.models import save_model, load_model;\n",
    "\n",
    "#Matplot lib\n",
    "from matplotlib import pyplot as plt;\n",
    "\n",
    "import os.path as path;"
   ]
  },
  {
   "cell_type": "code",
   "execution_count": 2,
   "metadata": {},
   "outputs": [],
   "source": [
    "#Formating strings\n",
    "C_FMT_TRAIN_LEN = 'The lenght of the training set {} is {} images.';\n",
    "C_FMT_TEST_LEN = 'The lenght of the test set {} is {} images';\n",
    "C_FMT_DATA_DIMM = 'The dimensions of the data are : {}';\n",
    "\n",
    "\n",
    "C_STR_MODEL_NAME = 'simple_numbers_1.h5'"
   ]
  },
  {
   "cell_type": "code",
   "execution_count": 3,
   "metadata": {},
   "outputs": [],
   "source": [
    "#Shows subplot of images for given image list\n",
    "def ShowGridPlotImgs(imageList, width=20, height=20, columns=10, rows=10):   \n",
    "    fig=plt.figure(figsize=(8, 8))    \n",
    "    for i in range(1, columns*rows + 1):        \n",
    "        fig.add_subplot(rows, columns, i);\n",
    "        plt.imshow(imageList[i]);\n",
    "    plt.show();"
   ]
  },
  {
   "cell_type": "code",
   "execution_count": 4,
   "metadata": {},
   "outputs": [],
   "source": [
    "def TrainSimpleNumbersModel(X_train, y_train, X_test, y_test, debug=True):  \n",
    "    \n",
    "    #Show info about traing and testing data\n",
    "    if( debug ):\n",
    "        print(C_FMT_TRAIN_LEN.format('X', len(X_train) ) );\n",
    "        print(C_FMT_TRAIN_LEN.format('y', len(y_train) ) );\n",
    "        print(C_FMT_TEST_LEN.format('X', len(X_test) ) );\n",
    "        print(C_FMT_TEST_LEN.format('y', len(y_test) ) );\n",
    "        print (C_FMT_DATA_DIMM.format(X_train.shape) );\n",
    "        # (60000, 28, 28)\n",
    "\n",
    "    print('First 100 train images');\n",
    "    ShowGridPlotImgs(X_train);\n",
    "    \n",
    "    #Reshape input dataPython\n",
    "    X_train = X_train.reshape(X_train.shape[0], 1, 28, 28)\n",
    "    X_test = X_test.reshape(X_test.shape[0], 1, 28, 28)\n",
    "    \n",
    "    #todo normalize the data\n",
    "    X_train = X_train.astype('float32')\n",
    "    X_test = X_test.astype('float32')\n",
    "    X_train /= 255\n",
    "    X_test /= 255\n",
    "\n",
    "    if( debug ):\n",
    "        print('After normailzation');\n",
    "        print(X_train[0])    \n",
    "        print (y_train.shape)\n",
    "        print (y_train[:10])\n",
    "\n",
    "    # Convert 1-dimensional class arrays to 10-dimensional class matrices\n",
    "    Y_train = np_utils.to_categorical(y_train, 10);\n",
    "    Y_test = np_utils.to_categorical(y_test, 10);\n",
    "\n",
    "    if( debug ): \n",
    "        print (Y_train.shape)\n",
    "    \n",
    "    #Declare Sequential modelPython\n",
    "    model = Sequential()\n",
    "\n",
    "    #CNN input layerPython\n",
    "    model.add(Convolution2D(32, (3, 3), activation='relu', input_shape=(1,28,28), data_format='channels_first') )\n",
    "\n",
    "    print (model.output_shape)\n",
    "    # (None, 32, 26, 26)\n",
    "    \n",
    "    model.add(Convolution2D(32, (3, 3), activation='relu'))\n",
    "    model.add(MaxPooling2D(pool_size=(2,2)))\n",
    "    model.add(Dropout(0.25))\n",
    "\n",
    "    model.add(Flatten());\n",
    "    model.add(Dense(128, activation='relu'));\n",
    "    model.add(Dropout(0.5));\n",
    "    model.add(Dense(10, activation='softmax'));\n",
    "\n",
    "    #Compile modelPython\n",
    "    model.compile(loss='categorical_crossentropy', optimizer='adam', metrics=['accuracy']);\n",
    "\n",
    "    #Fit Keras modelPython\n",
    "    model.fit(X_train, Y_train, batch_size=32, epochs=3, verbose=1);\n",
    "    \n",
    "    #Evalluate keras model\n",
    "    score = model.evaluate(X_test, Y_test, verbose=0);\n",
    "    \n",
    "    if( debug ) : \n",
    "        print(score);       \n",
    "\n",
    "    return model;"
   ]
  },
  {
   "cell_type": "code",
   "execution_count": 5,
   "metadata": {},
   "outputs": [
    {
     "name": "stdout",
     "output_type": "stream",
     "text": [
      "WARNING:tensorflow:From E:\\Anaconda\\envs\\myenv\\lib\\site-packages\\keras\\backend\\tensorflow_backend.py:4070: The name tf.nn.max_pool is deprecated. Please use tf.nn.max_pool2d instead.\n",
      "\n",
      "WARNING:tensorflow:From E:\\Anaconda\\envs\\myenv\\lib\\site-packages\\keras\\backend\\tensorflow_backend.py:422: The name tf.global_variables is deprecated. Please use tf.compat.v1.global_variables instead.\n",
      "\n",
      "Loaded the model :simple_numbers_1.h5\n",
      "The prediction is : 2\n"
     ]
    },
    {
     "data": {
      "image/png": "[encoded data removed]",
      "text/plain": [
       "<Figure size 432x288 with 1 Axes>"
      ]
     },
     "metadata": {
      "needs_background": "light"
     },
     "output_type": "display_data"
    }
   ],
   "source": [
    " # Load pre-shuffled MNIST data into train and test sets\n",
    "(X_train, y_train), (X_test, y_test) = mnist.load_data();\n",
    "\n",
    "#check if there is already traind model with the given name\n",
    "if ( not path.exists(C_STR_MODEL_NAME) ) :\n",
    "    answer = Input('There is no traind model. Do you want to train in now [y/n]?');    \n",
    "    if( answer != 'y'):\n",
    "        print ('Exiting now!');\n",
    "        exit;  \n",
    "\n",
    "    # Do the model training\n",
    "    currModel = TrainSimpleNumbersModel( X_train, y_train, X_test, y_test)\n",
    "    \n",
    "    answer = input('Do you want to save the trained model now [y\\n]?')\n",
    "    \n",
    "    if(anwser == 'y'):\n",
    "        save_model(model, C_STR_MODEL_NAME);\n",
    "else:\n",
    "    currModel = load_model(C_STR_MODEL_NAME);\n",
    "    print('Loaded the model :' + C_STR_MODEL_NAME);\n",
    "    \n",
    "    C_INT_IMG_INDEX = 1;\n",
    "    \n",
    "    plt.imshow(X_test[C_INT_IMG_INDEX]);    \n",
    "    testSample = X_test.reshape(X_test.shape[0], 1, 28, 28)  \n",
    "   \n",
    "    \n",
    "    prediction = currModel.predict(testSample);   \n",
    "    \n",
    "    print('The prediction is : {}'.format( np.argmax(prediction[C_INT_IMG_INDEX]) ) );\n",
    "    #print('The prediction is : {}'.format(prediction) );"
   ]
  },
  {
   "cell_type": "code",
   "execution_count": 13,
   "metadata": {},
   "outputs": [
    {
     "name": "stdout",
     "output_type": "stream",
     "text": [
      "E:\\Repository\\GitHub\\TRAININGS-Repos\\PythonTutorials\\Python\\Machine learning\\notebooks\\imgs\\2_11.PNG\n"
     ]
    },
    {
     "ename": "ValueError",
     "evalue": "cannot reshape array of size 201240 into shape (234,1,28,28)",
     "output_type": "error",
     "traceback": [
      "\u001b[1;31m---------------------------------------------------------------------------\u001b[0m",
      "\u001b[1;31mValueError\u001b[0m                                Traceback (most recent call last)",
      "\u001b[1;32m<ipython-input-13-0bf30df6368b>\u001b[0m in \u001b[0;36m<module>\u001b[1;34m\u001b[0m\n\u001b[0;32m      8\u001b[0m \u001b[0mimgplot\u001b[0m \u001b[1;33m=\u001b[0m \u001b[0mplt\u001b[0m\u001b[1;33m.\u001b[0m\u001b[0mimshow\u001b[0m\u001b[1;33m(\u001b[0m\u001b[0mimg\u001b[0m\u001b[1;33m)\u001b[0m\u001b[1;33m;\u001b[0m\u001b[1;33m\u001b[0m\u001b[1;33m\u001b[0m\u001b[0m\n\u001b[0;32m      9\u001b[0m \u001b[1;33m\u001b[0m\u001b[0m\n\u001b[1;32m---> 10\u001b[1;33m \u001b[0mimg\u001b[0m\u001b[1;33m.\u001b[0m\u001b[0mreshape\u001b[0m\u001b[1;33m(\u001b[0m\u001b[0mimg\u001b[0m\u001b[1;33m.\u001b[0m\u001b[0mshape\u001b[0m\u001b[1;33m[\u001b[0m\u001b[1;36m0\u001b[0m\u001b[1;33m]\u001b[0m\u001b[1;33m,\u001b[0m \u001b[1;36m1\u001b[0m\u001b[1;33m,\u001b[0m \u001b[1;36m28\u001b[0m\u001b[1;33m,\u001b[0m \u001b[1;36m28\u001b[0m\u001b[1;33m)\u001b[0m\u001b[1;33m\u001b[0m\u001b[1;33m\u001b[0m\u001b[0m\n\u001b[0m\u001b[0;32m     11\u001b[0m \u001b[1;33m\u001b[0m\u001b[0m\n\u001b[0;32m     12\u001b[0m \u001b[0mnewPred\u001b[0m \u001b[1;33m=\u001b[0m \u001b[0mcurrModel\u001b[0m\u001b[1;33m.\u001b[0m\u001b[0mpredict\u001b[0m\u001b[1;33m(\u001b[0m\u001b[0mimg1\u001b[0m\u001b[1;33m)\u001b[0m\u001b[1;33m;\u001b[0m\u001b[1;33m\u001b[0m\u001b[1;33m\u001b[0m\u001b[0m\n",
      "\u001b[1;31mValueError\u001b[0m: cannot reshape array of size 201240 into shape (234,1,28,28)"
     ]
    },
    {
     "data": {
      "image/png": "[encoded data removed]",
      "text/plain": [
       "<Figure size 432x288 with 1 Axes>"
      ]
     },
     "metadata": {
      "needs_background": "light"
     },
     "output_type": "display_data"
    }
   ],
   "source": [
    "import matplotlib.image as mpimg;\n",
    "import os;\n",
    "\n",
    "absImgPath = os.path.join(os.getcwd(), 'imgs', '2_11.PNG');\n",
    "print(absImgPath);\n",
    "img = mpimg.imread(absImgPath);\n",
    "\n",
    "imgplot = plt.imshow(img);\n",
    "\n",
    "img.reshape(img.shape[0], 1, 28, 28)  \n",
    "\n",
    "newPred = currModel.predict(img1); \n"
   ]
  },
  {
   "cell_type": "code",
   "execution_count": null,
   "metadata": {},
   "outputs": [],
   "source": []
  }
 ],
 "metadata": {
  "kernelspec": {
   "display_name": "Python 3",
   "language": "python",
   "name": "python3"
  },
  "language_info": {
   "codemirror_mode": {
    "name": "ipython",
    "version": 3
   },
   "file_extension": ".py",
   "mimetype": "text/x-python",
   "name": "python",
   "nbconvert_exporter": "python",
   "pygments_lexer": "ipython3",
   "version": "3.6.12"
  }
 },
 "nbformat": 4,
 "nbformat_minor": 5
}
