{
 "cells": [
  {
   "cell_type": "code",
   "execution_count": 17,
   "metadata": {},
   "outputs": [],
   "source": [
    "import numpy as np\n",
    "np.random.seed(123)  # for reproducibility\n",
    "\n",
    "from tensorflow import keras\n",
    "\n",
    "#keras model module\n",
    "from keras.models import Sequential\n",
    "\n",
    "#ceras core layers\n",
    "from keras.layers import Dense, Dropout, Activation, Flatten\n",
    "\n",
    "#cnn layars\n",
    "from keras.layers import Convolution2D, MaxPooling2D\n",
    "\n",
    "from keras.utils import np_utils\n",
    "\n",
    "#Load image data from MNIST.\n",
    "from keras.datasets import mnist\n",
    "\n",
    "from keras.models import save_model, load_model;\n",
    "\n",
    "#Matplot lib\n",
    "from matplotlib import pyplot as plt;\n",
    "\n",
    "import os.path as path;"
   ]
  },
  {
   "cell_type": "code",
   "execution_count": 18,
   "metadata": {},
   "outputs": [],
   "source": [
    "#Formating strings\n",
    "C_FMT_TRAIN_LEN = 'The lenght of the training set {} is {} images.';\n",
    "C_FMT_TEST_LEN = 'The lenght of the test set {} is {} images';\n",
    "C_FMT_DATA_DIMM = 'The dimensions of the data are : {}';\n",
    "\n",
    "\n",
    "C_STR_MODEL_NAME = 'simple_numbers_1.h5'"
   ]
  },
  {
   "cell_type": "code",
   "execution_count": 19,
   "metadata": {},
   "outputs": [],
   "source": [
    "#Shows subplot of images for given image list\n",
    "def ShowGridPlotImgs(imageList, width=20, height=20, columns=10, rows=10):   \n",
    "    fig=plt.figure(figsize=(8, 8))    \n",
    "    for i in range(1, columns*rows + 1):        \n",
    "        fig.add_subplot(rows, columns, i);\n",
    "        plt.imshow(imageList[i]);\n",
    "    plt.show();"
   ]
  },
  {
   "cell_type": "code",
   "execution_count": 20,
   "metadata": {},
   "outputs": [],
   "source": [
    "def TrainSimpleNumbersModel(X_train, y_train, X_test, y_test, debug=True):  \n",
    "    \n",
    "    #Show info about traing and testing data\n",
    "    if( debug ):\n",
    "        print(C_FMT_TRAIN_LEN.format('X', len(X_train) ) );\n",
    "        print(C_FMT_TRAIN_LEN.format('y', len(y_train) ) );\n",
    "        print(C_FMT_TEST_LEN.format('X', len(X_test) ) );\n",
    "        print(C_FMT_TEST_LEN.format('y', len(y_test) ) );\n",
    "        print (C_FMT_DATA_DIMM.format(X_train.shape) );\n",
    "        # (60000, 28, 28)\n",
    "\n",
    "    print('First 100 train images');\n",
    "    ShowGridPlotImgs(X_train);\n",
    "    \n",
    "    #Reshape input dataPython\n",
    "    X_train = X_train.reshape(X_train.shape[0], 1, 28, 28)\n",
    "    X_test = X_test.reshape(X_test.shape[0], 1, 28, 28)\n",
    "    \n",
    "    #todo normalize the data\n",
    "    X_train = X_train.astype('float32')\n",
    "    X_test = X_test.astype('float32')\n",
    "    X_train /= 255\n",
    "    X_test /= 255\n",
    "\n",
    "    if( debug ):\n",
    "        print('After normailzation');\n",
    "        print(X_train[0])    \n",
    "        print (y_train.shape)\n",
    "        print (y_train[:10])\n",
    "\n",
    "    # Convert 1-dimensional class arrays to 10-dimensional class matrices\n",
    "    Y_train = np_utils.to_categorical(y_train, 10);\n",
    "    Y_test = np_utils.to_categorical(y_test, 10);\n",
    "\n",
    "    if( debug ): \n",
    "        print (Y_train.shape)\n",
    "    \n",
    "    #Declare Sequential modelPython\n",
    "    model = Sequential()\n",
    "\n",
    "    #CNN input layerPython\n",
    "    model.add(Convolution2D(32, (3, 3), activation='relu', input_shape=(1,28,28), data_format='channels_first') )\n",
    "\n",
    "    print (model.output_shape)\n",
    "    # (None, 32, 26, 26)\n",
    "    \n",
    "    model.add(Convolution2D(32, (3, 3), activation='relu'))\n",
    "    model.add(MaxPooling2D(pool_size=(2,2)))\n",
    "    model.add(Dropout(0.25))\n",
    "\n",
    "    model.add(Flatten());\n",
    "    model.add(Dense(128, activation='relu'));\n",
    "    model.add(Dropout(0.5));\n",
    "    model.add(Dense(10, activation='softmax'));\n",
    "\n",
    "    #Compile modelPython\n",
    "    model.compile(loss='categorical_crossentropy', optimizer='adam', metrics=['accuracy']);\n",
    "\n",
    "    #Fit Keras modelPython\n",
    "    model.fit(X_train, Y_train, batch_size=32, epochs=3, verbose=1);\n",
    "    \n",
    "    #Evalluate keras model\n",
    "    score = model.evaluate(X_test, Y_test, verbose=0);\n",
    "    \n",
    "    if( debug ) : \n",
    "        print(score);       \n",
    "\n",
    "    return model;"
   ]
  },
  {
   "cell_type": "code",
   "execution_count": 31,
   "metadata": {},
   "outputs": [
    {
     "name": "stdout",
     "output_type": "stream",
     "text": [
      "Loaded the model :simple_numbers_1.h5\n",
      "The prediction is : 7\n"
     ]
    },
    {
     "data": {
      "image/png": "[encoded data removed]",
      "text/plain": [
       "<Figure size 432x288 with 1 Axes>"
      ]
     },
     "metadata": {
      "needs_background": "light"
     },
     "output_type": "display_data"
    }
   ],
   "source": [
    " # Load pre-shuffled MNIST data into train and test sets\n",
    "(X_train, y_train), (X_test, y_test) = mnist.load_data();\n",
    "\n",
    "#check if there is already traind model with the given name\n",
    "if ( not path.exists(C_STR_MODEL_NAME) ) :\n",
    "    answer = Input('There is no traind model. Do you want to train in now [y/n]?');    \n",
    "    if( answer != 'y'):\n",
    "        print ('Exiting now!');\n",
    "        exit;  \n",
    "\n",
    "    # Do the model training\n",
    "    currModel = TrainSimpleNumbersModel( X_train, y_train, X_test, y_test)\n",
    "    \n",
    "    answer = input('Do you want to save the trained model now [y\\n]?')\n",
    "    \n",
    "    if(anwser == 'y'):\n",
    "        save_model(model, C_STR_MODEL_NAME);\n",
    "else:\n",
    "    currModel = load_model(C_STR_MODEL_NAME);\n",
    "    print('Loaded the model :' + C_STR_MODEL_NAME);\n",
    "    \n",
    "    C_INT_IMG_INDEX = 10;\n",
    "    \n",
    "    plt.imshow(X_test[0]);    \n",
    "    testSample = X_test.reshape(X_test.shape[0], 1, 28, 28)  \n",
    "   \n",
    "    prediction = currModel.predict(testSample);   \n",
    "    \n",
    "    print('The prediction is : {}'.format( np.argmax(prediction[0]) ) );\n",
    "    #print('The prediction is : {}'.format(prediction) );"
   ]
  },
  {
   "cell_type": "code",
   "execution_count": null,
   "metadata": {},
   "outputs": [],
   "source": [
    ")\n",
    "#print(X_test[0])\n"
   ]
  },
  {
   "cell_type": "code",
   "execution_count": 24,
   "metadata": {},
   "outputs": [],
   "source": [
    "#plt.imshow(Y_test[0],cmap=plt.cm.binary)"
   ]
  }
 ],
 "metadata": {
  "kernelspec": {
   "display_name": "Python 3",
   "language": "python",
   "name": "python3"
  },
  "language_info": {
   "codemirror_mode": {
    "name": "ipython",
    "version": 3
   },
   "file_extension": ".py",
   "mimetype": "text/x-python",
   "name": "python",
   "nbconvert_exporter": "python",
   "pygments_lexer": "ipython3",
   "version": "3.6.12"
  }
 },
 "nbformat": 4,
 "nbformat_minor": 5
}
