{
 "cells": [
  {
   "cell_type": "code",
   "execution_count": 129,
   "metadata": {},
   "outputs": [],
   "source": [
    "import numpy as np\n",
    "np.random.seed(123)  # for reproducibility\n",
    "\n",
    "from tensorflow import keras\n",
    "\n",
    "#keras model module\n",
    "from keras.models import Sequential\n",
    "\n",
    "#ceras core layers\n",
    "from keras.layers import Dense, Dropout, Activation, Flatten\n",
    "\n",
    "#cnn layars\n",
    "from keras.layers import Convolution2D, MaxPooling2D\n",
    "\n",
    "from keras.utils import np_utils\n",
    "\n",
    "#Load image data from MNIST.\n",
    "from keras.datasets import mnist\n",
    "\n",
    "from keras.models import save_model, load_model;\n",
    "\n",
    "#Matplot lib\n",
    "from matplotlib import pyplot as plt;\n",
    "\n",
    "import os;\n",
    "import os.path as path;\n",
    "\n",
    "import matplotlib.image as mpimg;\n",
    "\n",
    "# load image and convert to and from NumPy array\n",
    "from PIL import Image, ImageOps;"
   ]
  },
  {
   "cell_type": "code",
   "execution_count": 23,
   "metadata": {},
   "outputs": [],
   "source": [
    "#Formating strings\n",
    "C_FMT_TRAIN_LEN = 'The lenght of the training set {} is {} images.';\n",
    "C_FMT_TEST_LEN = 'The lenght of the test set {} is {} images';\n",
    "C_FMT_DATA_DIMM = 'The dimensions of the data are : {}';\n",
    "\n",
    "\n",
    "C_STR_MODEL_NAME = 'simple_numbers_1.h5'"
   ]
  },
  {
   "cell_type": "code",
   "execution_count": 24,
   "metadata": {},
   "outputs": [],
   "source": [
    "#Shows subplot of images for given image list\n",
    "def ShowGridPlotImgs(imageList, width=20, height=20, columns=10, rows=10):   \n",
    "    fig=plt.figure(figsize=(8, 8))    \n",
    "    for i in range(1, columns*rows + 1):        \n",
    "        fig.add_subplot(rows, columns, i);\n",
    "        plt.imshow(imageList[i]);\n",
    "    plt.show();"
   ]
  },
  {
   "cell_type": "code",
   "execution_count": 25,
   "metadata": {},
   "outputs": [],
   "source": [
    "def TrainSimpleNumbersModel(X_train, y_train, X_test, y_test, debug=True):  \n",
    "    \n",
    "    #Show info about traing and testing data\n",
    "    if( debug ):\n",
    "        print(C_FMT_TRAIN_LEN.format('X', len(X_train) ) );\n",
    "        print(C_FMT_TRAIN_LEN.format('y', len(y_train) ) );\n",
    "        print(C_FMT_TEST_LEN.format('X', len(X_test) ) );\n",
    "        print(C_FMT_TEST_LEN.format('y', len(y_test) ) );\n",
    "        print (C_FMT_DATA_DIMM.format(X_train.shape) );\n",
    "        # (60000, 28, 28)\n",
    "\n",
    "    print('First 100 train images');\n",
    "    ShowGridPlotImgs(X_train);\n",
    "    \n",
    "    #Reshape input dataPython\n",
    "    X_train = X_train.reshape(X_train.shape[0], 1, 28, 28)\n",
    "    X_test = X_test.reshape(X_test.shape[0], 1, 28, 28)\n",
    "    \n",
    "    #todo normalize the data\n",
    "    X_train = X_train.astype('float32')\n",
    "    X_test = X_test.astype('float32')\n",
    "    X_train /= 255\n",
    "    X_test /= 255\n",
    "\n",
    "    if( debug ):\n",
    "        print('After normailzation');\n",
    "        print(X_train[0])    \n",
    "        print (y_train.shape)\n",
    "        print (y_train[:10])\n",
    "\n",
    "    # Convert 1-dimensional class arrays to 10-dimensional class matrices\n",
    "    Y_train = np_utils.to_categorical(y_train, 10);\n",
    "    Y_test = np_utils.to_categorical(y_test, 10);\n",
    "\n",
    "    if( debug ): \n",
    "        print (Y_train.shape)\n",
    "    \n",
    "    #Declare Sequential modelPython\n",
    "    model = Sequential()\n",
    "\n",
    "    #CNN input layerPython\n",
    "    model.add(Convolution2D(32, (3, 3), activation='relu', input_shape=(1,28,28), data_format='channels_first') )\n",
    "\n",
    "    print (model.output_shape)\n",
    "    # (None, 32, 26, 26)\n",
    "    \n",
    "    model.add(Convolution2D(32, (3, 3), activation='relu'))\n",
    "    model.add(MaxPooling2D(pool_size=(2,2)))\n",
    "    model.add(Dropout(0.25))\n",
    "\n",
    "    model.add(Flatten());\n",
    "    model.add(Dense(128, activation='relu'));\n",
    "    model.add(Dropout(0.5));\n",
    "    model.add(Dense(10, activation='softmax'));\n",
    "\n",
    "    #Compile modelPython\n",
    "    model.compile(loss='categorical_crossentropy', optimizer='adam', metrics=['accuracy']);\n",
    "\n",
    "    #Fit Keras modelPython\n",
    "    model.fit(X_train, Y_train, batch_size=32, epochs=3, verbose=1);\n",
    "    \n",
    "    #Evalluate keras model\n",
    "    score = model.evaluate(X_test, Y_test, verbose=0);\n",
    "    \n",
    "    if( debug ) : \n",
    "        print(score);       \n",
    "\n",
    "    return model;"
   ]
  },
  {
   "cell_type": "code",
   "execution_count": 150,
   "metadata": {},
   "outputs": [
    {
     "name": "stdout",
     "output_type": "stream",
     "text": [
      "Loaded the model :simple_numbers_1.h5\n",
      "------------------------------------------------------\n",
      "Input testSample type :uint8\n",
      "Test testSample shape:(10000, 1, 28, 28)\n",
      "Input testSample  size :7840000\n",
      "Test testSample :[0]=10000\n",
      "The prediction is : 2\n"
     ]
    },
    {
     "data": {
      "image/png": "[encoded data removed]",
      "text/plain": [
       "<Figure size 432x288 with 1 Axes>"
      ]
     },
     "metadata": {
      "needs_background": "light"
     },
     "output_type": "display_data"
    }
   ],
   "source": [
    " # Load pre-shuffled MNIST data into train and test sets\n",
    "(X_train, y_train), (X_test, y_test) = mnist.load_data();\n",
    "\n",
    "currModel=0;\n",
    "\n",
    "#check if there is already traind model with the given name\n",
    "if ( not path.exists(C_STR_MODEL_NAME) ) :\n",
    "    answer = Input('There is no traind model. Do you want to train in now [y/n]?');    \n",
    "    if( answer != 'y'):\n",
    "        print ('Exiting now!');\n",
    "        exit;  \n",
    "\n",
    "    # Do the model training\n",
    "    currModel = TrainSimpleNumbersModel( X_train, y_train, X_test, y_test)\n",
    "    \n",
    "    answer = input('Do you want to save the trained model now [y\\n]?')\n",
    "    \n",
    "    if(anwser == 'y'):\n",
    "        save_model(model, C_STR_MODEL_NAME);\n",
    "else:\n",
    "    currModel = load_model(C_STR_MODEL_NAME);\n",
    "    print('Loaded the model :' + C_STR_MODEL_NAME);\n",
    "    \n",
    "    C_INT_IMG_INDEX = 1;\n",
    "    \n",
    "    plt.imshow(X_test[C_INT_IMG_INDEX]);    \n",
    "    testSample = X_test.reshape(X_test.shape[0], 1, 28, 28)  \n",
    "   \n",
    "    print('------------------------------------------------------');\n",
    "    print('Input testSample type :{}'.format(testSample.dtype) );\n",
    "    print('Test testSample shape:{}'.format(testSample.shape) );\n",
    "    print('Input testSample  size :{}'.format(testSample.size) );\n",
    "    print('Test testSample :[0]={}'.format(testSample.shape[0]));\n",
    "    prediction = currModel.predict(testSample);   \n",
    "    \n",
    "    print('The prediction is : {}'.format( np.argmax(prediction[C_INT_IMG_INDEX]) ) );\n",
    "    #print('The prediction is : {}'.format(prediction) );"
   ]
  },
  {
   "cell_type": "code",
   "execution_count": 170,
   "metadata": {},
   "outputs": [
    {
     "name": "stdout",
     "output_type": "stream",
     "text": [
      "Image path : E:\\Repository\\GitHub\\TRAININGS-Repos\\PythonTutorials\\Python\\Machine learning\\notebooks\\imgs\\0_1.png\n",
      "Original image\n",
      "Image new size (28, 28)\n",
      "------------------------------------------------------\n",
      "Input img type :uint8\n",
      "Input img shape :(28, 28)\n",
      "Input img  size :784\n",
      "Input img shape :[0]=28\n"
     ]
    },
    {
     "data": {
      "image/png": "[encoded data removed]",
      "text/plain": [
       "<Figure size 432x288 with 1 Axes>"
      ]
     },
     "metadata": {
      "needs_background": "light"
     },
     "output_type": "display_data"
    },
    {
     "name": "stdout",
     "output_type": "stream",
     "text": [
      "[[0.000000e+00 0.000000e+00 0.000000e+00 0.000000e+00 0.000000e+00\n",
      "  0.000000e+00 0.000000e+00 0.000000e+00 1.000000e+00 3.027015e-10]]\n",
      "The prediction is : 8\n"
     ]
    }
   ],
   "source": [
    "#get imag path\n",
    "absImgPath = os.path.join(os.getcwd(), 'imgs', '6_1.png');\n",
    "print('Image path : {0}'.format(absImgPath) );\n",
    "\n",
    "#load image\n",
    "img_2 = Image.open(absImgPath).convert(mode='L');\n",
    "print('Original image');\n",
    "#display(img_2);\n",
    "\n",
    "#Resize the image\n",
    "img_2 = img_2.resize((28, 28));\n",
    "img_2 = ImageOps.invert(img_2);\n",
    "print('Image new size {}'.format(img_2.size))\n",
    "#display(img_2);\n",
    "print('------------------------------------------------------');\n",
    "\n",
    "\n",
    "#convet image to mat plot lib array\n",
    "img2Data = np.asarray(img_2);\n",
    "#print(img2Data)\n",
    "\n",
    "#debug\n",
    "print('Input img type :{}'.format(img2Data.dtype) );\n",
    "print('Input img shape :{}'.format(img2Data.shape) );\n",
    "print('Input img  size :{}'.format(img2Data.size) );\n",
    "print('Input img shape :[0]={}'.format(img2Data.shape[0]));\n",
    "plt.imshow(img2Data);\n",
    "plt.show();\n",
    "\n",
    "#print('------------------------------------------------------');\n",
    "#print('Input img type :{}'.format(X_test[0].dtype) );\n",
    "#print('Test shape :{}'.format(X_test[0].shape) );\n",
    "#print('Input img  size :{}'.format(X_test[0].size) );\n",
    "#print('Test shape :[0]={}'.format(X_test.shape[0]));\n",
    "#plt.imshow(X_test[0]);\n",
    "\n",
    "#https://pillow.readthedocs.io/en/5.1.x/reference/Image.html\n",
    "img2Data = np.expand_dims(img2Data, -1);\n",
    "img2Data = img2Data.reshape(1, 1, 28, 28);\n",
    "#mg2Data = np.expand_dims(mg2Data, axis=0)\n",
    "mg2Data = img2Data.astype('float32')\n",
    "#mg2Data /= 255\n",
    "#plt.imshow(img2Data);\n",
    "\n",
    "#rint('Input img shape :{}'.format(img2Data.shape) );\n",
    "\n",
    "#imgplot = plt.imshow(img);\n",
    "#newPred = currModel.predict(img1);\n",
    "prediction = currModel.predict(img2Data);\n",
    "print(prediction);\n",
    "print('The prediction is : {}'.format( np.argmax(prediction[0]) ) );"
   ]
  },
  {
   "cell_type": "code",
   "execution_count": null,
   "metadata": {},
   "outputs": [],
   "source": []
  }
 ],
 "metadata": {
  "kernelspec": {
   "display_name": "Python 3",
   "language": "python",
   "name": "python3"
  },
  "language_info": {
   "codemirror_mode": {
    "name": "ipython",
    "version": 3
   },
   "file_extension": ".py",
   "mimetype": "text/x-python",
   "name": "python",
   "nbconvert_exporter": "python",
   "pygments_lexer": "ipython3",
   "version": "3.6.12"
  }
 },
 "nbformat": 4,
 "nbformat_minor": 5
}
